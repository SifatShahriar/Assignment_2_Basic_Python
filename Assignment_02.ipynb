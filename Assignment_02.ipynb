{
 "cells": [
  {
   "cell_type": "markdown",
   "id": "b695c385",
   "metadata": {},
   "source": [
    "### 1. Write a program that swaps the values of two variables."
   ]
  },
  {
   "cell_type": "code",
   "execution_count": 1,
   "id": "a7c109e4",
   "metadata": {},
   "outputs": [
    {
     "name": "stdout",
     "output_type": "stream",
     "text": [
      "Enter 1st number:12\n",
      "Enter 2nd number:18\n",
      "Now, number_1 is 18 and number_2 is 12\n"
     ]
    }
   ],
   "source": [
    "num1 = int(input(\"Enter 1st number:\"))\n",
    "num2 = int(input(\"Enter 2nd number:\"))\n",
    "num1,num2 = num2,num1\n",
    "print(\"Now, number_1 is {} and number_2 is {}\".format(num1,num2))"
   ]
  },
  {
   "cell_type": "code",
   "execution_count": 2,
   "id": "8fe85026",
   "metadata": {},
   "outputs": [
    {
     "name": "stdout",
     "output_type": "stream",
     "text": [
      "Enter 1st number:12\n",
      "Enter 2nd number:18\n",
      "Now, number_1 is 18 and number_2 is 12\n"
     ]
    }
   ],
   "source": [
    "num1 = int(input(\"Enter 1st number:\"))\n",
    "num2 = int(input(\"Enter 2nd number:\"))\n",
    "num1,num2 = num2,num1\n",
    "print(f\"Now, number_1 is {num1} and number_2 is {num2}\")"
   ]
  },
  {
   "cell_type": "markdown",
   "id": "47818857",
   "metadata": {},
   "source": [
    "### 2. Write a program that calculates the area of a rectangle given its length and width."
   ]
  },
  {
   "cell_type": "code",
   "execution_count": 3,
   "id": "ff76b630",
   "metadata": {},
   "outputs": [
    {
     "name": "stdout",
     "output_type": "stream",
     "text": [
      "Enter the length:5\n",
      "Enter the width:6\n",
      "The area of given rectangle is 30.0\n"
     ]
    }
   ],
   "source": [
    "length = float(input(\"Enter the length:\"))\n",
    "width = float(input(\"Enter the width:\"))\n",
    "area = length * width\n",
    "print(\"The area of given rectangle is\", area)"
   ]
  },
  {
   "cell_type": "markdown",
   "id": "353cb731",
   "metadata": {},
   "source": [
    "### 3. Write a program that converts temperature from Fahrenheit to Celsius. <br>\n",
    "##### °C = (°F - 32) × 5/9"
   ]
  },
  {
   "cell_type": "code",
   "execution_count": 4,
   "id": "44fcda62",
   "metadata": {},
   "outputs": [
    {
     "name": "stdout",
     "output_type": "stream",
     "text": [
      "Enter temperature in Fahrenheit:100\n",
      "The temperature in Celcius is 37.77777777777778\n"
     ]
    }
   ],
   "source": [
    "fahrenheit = float(input(\"Enter temperature in Fahrenheit:\"))\n",
    "celcius = (fahrenheit - 32)*(5/9)\n",
    "print(\"The temperature in Celcius is\", celcius)"
   ]
  },
  {
   "cell_type": "markdown",
   "id": "79412e7d",
   "metadata": {},
   "source": [
    "### 4. Write a program that calculates the volume of a sphere given its radius. <br>\n",
    "##### V = 4/3 π r³"
   ]
  },
  {
   "cell_type": "code",
   "execution_count": 5,
   "id": "833b8e00",
   "metadata": {},
   "outputs": [
    {
     "name": "stdout",
     "output_type": "stream",
     "text": [
      "Enter the radius6\n",
      "the volume of sphere is 904.7807999999999\n"
     ]
    }
   ],
   "source": [
    "radius = float(input('Enter the radius'))\n",
    "volume = (4/3)*3.1416* (radius**3)\n",
    "print('the volume of sphere is', volume)"
   ]
  },
  {
   "cell_type": "markdown",
   "id": "6760032c",
   "metadata": {},
   "source": [
    "### 5. Write a program that finds the average of three numbers."
   ]
  },
  {
   "cell_type": "code",
   "execution_count": 6,
   "id": "0b3e12b8",
   "metadata": {},
   "outputs": [
    {
     "name": "stdout",
     "output_type": "stream",
     "text": [
      "Enter 1st number:5\n",
      "Enter 2nd number:5\n",
      "Enter 3rd number:5\n",
      "Average is = 5.0\n"
     ]
    }
   ],
   "source": [
    "num_1 = float(input('Enter 1st number:'))\n",
    "num_2 = float(input('Enter 2nd number:'))\n",
    "num_3 = float(input('Enter 3rd number:'))\n",
    "average = (num_1+num_2+num_3)/3\n",
    "print('Average is =', average)"
   ]
  },
  {
   "cell_type": "markdown",
   "id": "30db85d8",
   "metadata": {},
   "source": [
    "### 6. Write a program that determines if a number is even or odd."
   ]
  },
  {
   "cell_type": "code",
   "execution_count": 7,
   "id": "ffe3263c",
   "metadata": {},
   "outputs": [
    {
     "name": "stdout",
     "output_type": "stream",
     "text": [
      "Enter an integer number:50\n",
      "The number is even.\n"
     ]
    }
   ],
   "source": [
    "user = int(input(\"Enter an integer number:\"))\n",
    "if user % 2 == 0:\n",
    "    print(\"The number is even.\")\n",
    "else:\n",
    "    print(\"The number is odd.\")"
   ]
  },
  {
   "cell_type": "markdown",
   "id": "fa5198bb",
   "metadata": {},
   "source": [
    "### 7. Write a program that finds the maximum of three numbers."
   ]
  },
  {
   "cell_type": "code",
   "execution_count": 8,
   "id": "81b5c31d",
   "metadata": {},
   "outputs": [
    {
     "name": "stdout",
     "output_type": "stream",
     "text": [
      "Enter 1st number:12\n",
      "Enter 2nd number:12\n",
      "Enter 1st number:13\n",
      "13 is maximum\n"
     ]
    }
   ],
   "source": [
    "a = int(input(\"Enter 1st number:\"))\n",
    "b = int(input(\"Enter 2nd number:\"))\n",
    "c = int(input(\"Enter 1st number:\"))\n",
    "\n",
    "if (a >b and a>c):\n",
    "    print(a, 'is maximum')\n",
    "elif (b > a and b > c):\n",
    "    print(b, 'is maximum')\n",
    "elif (c > a and c > b):\n",
    "    print(c, 'is maximum')\n",
    "else:\n",
    "    print('All are equal')"
   ]
  },
  {
   "cell_type": "markdown",
   "id": "5e48d3a9",
   "metadata": {},
   "source": [
    "### 8. Write a program that determines if a year is a leap year or not. <br>\n",
    " ###### leap year if perfectly divisible by 400 <br>\n",
    " ###### leap year if not divisible by 100 but divisible by 4"
   ]
  },
  {
   "cell_type": "code",
   "execution_count": 9,
   "id": "31069515",
   "metadata": {},
   "outputs": [
    {
     "name": "stdout",
     "output_type": "stream",
     "text": [
      "Enter year:2012\n",
      "Leap year.\n"
     ]
    }
   ],
   "source": [
    "year = int(input(\"Enter year:\"))\n",
    "if year%400 == 0:\n",
    "    print(\"Leap year.\")\n",
    "elif year%4 == 0 and year%100 != 0:\n",
    "    print(\"Leap year.\")\n",
    "else:\n",
    "    print(\"Not Leap year.\")"
   ]
  },
  {
   "cell_type": "markdown",
   "id": "e76cc91b",
   "metadata": {},
   "source": [
    "### 9. Write a program that determines if a number is positive, negative, or zero."
   ]
  },
  {
   "cell_type": "code",
   "execution_count": 11,
   "id": "3838ac6d",
   "metadata": {},
   "outputs": [
    {
     "name": "stdout",
     "output_type": "stream",
     "text": [
      "Enter a number:56\n",
      "The number is positive.\n"
     ]
    }
   ],
   "source": [
    "num = float(input(\"Enter a number:\"))\n",
    "if num > 0:\n",
    "    print(\"The number is positive.\")\n",
    "elif num < 0:\n",
    "    print(\"The number is negative.\")\n",
    "else:\n",
    "    print(\"The number is zero.\")"
   ]
  },
  {
   "cell_type": "markdown",
   "id": "4b039071",
   "metadata": {},
   "source": [
    "### 10. Write a program that calculates the grade based on a given percentage."
   ]
  },
  {
   "cell_type": "code",
   "execution_count": 15,
   "id": "dbdb19ec",
   "metadata": {},
   "outputs": [
    {
     "name": "stdout",
     "output_type": "stream",
     "text": [
      "Enter your mark:75\n",
      "A\n"
     ]
    }
   ],
   "source": [
    "x = float(input(\"Enter your mark:\"))\n",
    "if x >= 80:\n",
    "    print('A+')\n",
    "elif x >= 70:\n",
    "    print('A')\n",
    "elif x >= 60:\n",
    "    print('A-')\n",
    "elif x >= 50:\n",
    "    print('B')\n",
    "else:\n",
    "    print('Failed')"
   ]
  },
  {
   "cell_type": "markdown",
   "id": "a8979ca6",
   "metadata": {},
   "source": [
    "### 11. Write a program that prints the first `n` natural numbers. <br>\n",
    "###### Natural numbers are all positive integers from 1 to infinity."
   ]
  },
  {
   "cell_type": "code",
   "execution_count": 18,
   "id": "bbfc8a2a",
   "metadata": {},
   "outputs": [
    {
     "name": "stdout",
     "output_type": "stream",
     "text": [
      "Enter n:10\n",
      "1\n",
      "2\n",
      "3\n",
      "4\n",
      "5\n",
      "6\n",
      "7\n",
      "8\n",
      "9\n",
      "10\n"
     ]
    }
   ],
   "source": [
    "user = int(input('Enter n:'))\n",
    "for i in range(1, user+1):\n",
    "    print(i)"
   ]
  },
  {
   "cell_type": "markdown",
   "id": "aaa0f10a",
   "metadata": {},
   "source": [
    "### 12. Write a program that calculates the factorial of a number."
   ]
  },
  {
   "cell_type": "code",
   "execution_count": 24,
   "id": "8bb65870",
   "metadata": {},
   "outputs": [
    {
     "name": "stdout",
     "output_type": "stream",
     "text": [
      "Enter the number:0\n",
      "1\n"
     ]
    }
   ],
   "source": [
    "number = int(input(\"Enter the number:\"))\n",
    "value = 1\n",
    "for i in range(1,number+1):\n",
    "    value = value * i\n",
    "print(value)"
   ]
  },
  {
   "cell_type": "markdown",
   "id": "6ece070e",
   "metadata": {},
   "source": [
    "### 13. Write a program that generates a Fibonacci sequence of length `n`. <br>\n",
    "###### The fibonacci series numbers are given as: 0, 1, 1, 2, 3, 5, 8, 13, 21, 38, . . . In a Fibonacci series, every term is the sum of the preceding two terms, starting from 0 and 1 as the first and second terms. In some old references, the term '0' might be omitted."
   ]
  },
  {
   "cell_type": "code",
   "execution_count": 29,
   "id": "1e40f072",
   "metadata": {},
   "outputs": [
    {
     "name": "stdout",
     "output_type": "stream",
     "text": [
      "Enter n:10\n",
      "0\n",
      "1\n",
      "1\n",
      "2\n",
      "3\n",
      "5\n",
      "8\n",
      "13\n",
      "21\n",
      "34\n"
     ]
    }
   ],
   "source": [
    "from_user = int(input(\"Enter n:\"))\n",
    "first = 0\n",
    "second = 1\n",
    "print(first) \n",
    "print(second) \n",
    "for i in range(2, from_user):\n",
    "    then = first + second\n",
    "    print(then)\n",
    "    first = second\n",
    "    second = then\n",
    "    "
   ]
  },
  {
   "cell_type": "markdown",
   "id": "eb0b8547",
   "metadata": {},
   "source": [
    "### 14. Write a program that checks if a given number is prime or not."
   ]
  },
  {
   "cell_type": "code",
   "execution_count": 38,
   "id": "91d76450",
   "metadata": {},
   "outputs": [
    {
     "name": "stdout",
     "output_type": "stream",
     "text": [
      "Enter the number:5\n",
      "Prime\n"
     ]
    }
   ],
   "source": [
    "for_check = int(input(\"Enter the number:\"))\n",
    "if for_check > 1:\n",
    "    for i in range(2,for_check):\n",
    "        if (for_check % i == 0):\n",
    "            print('Not Prime')\n",
    "            break\n",
    "    else:\n",
    "        print('Prime')\n",
    "else:\n",
    "    print('Intered 0/1/Negative')"
   ]
  },
  {
   "cell_type": "markdown",
   "id": "f5352ed3",
   "metadata": {},
   "source": [
    "### 15. Write a program that prints the multiplication table of a given number."
   ]
  },
  {
   "cell_type": "code",
   "execution_count": 43,
   "id": "0178c527",
   "metadata": {},
   "outputs": [
    {
     "name": "stdout",
     "output_type": "stream",
     "text": [
      "Enter the number:10\n",
      "1 X 10 = 10\n",
      "2 X 10 = 20\n",
      "3 X 10 = 30\n",
      "4 X 10 = 40\n",
      "5 X 10 = 50\n",
      "6 X 10 = 60\n",
      "7 X 10 = 70\n",
      "8 X 10 = 80\n",
      "9 X 10 = 90\n",
      "10 X 10 = 100\n"
     ]
    }
   ],
   "source": [
    "_number = int(input(\"Enter the number:\"))\n",
    "for i in range(1,11):\n",
    "    print(f'{i} X {_number} = {i*_number}')\n",
    "    "
   ]
  },
  {
   "cell_type": "markdown",
   "id": "9f97e9d8",
   "metadata": {},
   "source": [
    "### 16. Write a program that finds the sum of all even numbers between 1 and `n`."
   ]
  },
  {
   "cell_type": "code",
   "execution_count": 48,
   "id": "d3ab5c1f",
   "metadata": {},
   "outputs": [
    {
     "name": "stdout",
     "output_type": "stream",
     "text": [
      "Enter the last number:10\n",
      "30\n"
     ]
    }
   ],
   "source": [
    "user_input = int(input(\"Enter the last number:\"))\n",
    "sum = 0\n",
    "for i in range(1,user_input+1):\n",
    "    if i % 2 == 0:\n",
    "        sum = sum + i\n",
    "    else:\n",
    "        continue\n",
    "print(sum)"
   ]
  },
  {
   "cell_type": "markdown",
   "id": "c292906e",
   "metadata": {},
   "source": [
    "### 17. Write a program that reverses a given number."
   ]
  },
  {
   "cell_type": "code",
   "execution_count": 50,
   "id": "88030119",
   "metadata": {},
   "outputs": [
    {
     "name": "stdout",
     "output_type": "stream",
     "text": [
      "Enter the number:123\n",
      "321"
     ]
    }
   ],
   "source": [
    "n = int(input(\"Enter the number:\"))\n",
    "while n>0:\n",
    "    r = n%10\n",
    "    n = n//10\n",
    "    print(r, end=\"\")\n"
   ]
  },
  {
   "cell_type": "markdown",
   "id": "63fe92dc",
   "metadata": {},
   "source": [
    "### 18. Write a program that checks if a given string is a palindrome."
   ]
  },
  {
   "cell_type": "code",
   "execution_count": 51,
   "id": "fb2f7b20",
   "metadata": {},
   "outputs": [
    {
     "name": "stdout",
     "output_type": "stream",
     "text": [
      "Enter the word:malayalam\n",
      "Palindrome\n"
     ]
    }
   ],
   "source": [
    "s = input(\"Enter the word:\")\n",
    "\n",
    "if s == s[::-1]:\n",
    "    print('Palindrome')\n",
    "else:\n",
    "    print(\"Not Palindrome.\")"
   ]
  },
  {
   "cell_type": "markdown",
   "id": "93b1646f",
   "metadata": {},
   "source": [
    "### 19. Write a program that generates a random number and allows the user to guess it."
   ]
  },
  {
   "cell_type": "code",
   "execution_count": 60,
   "id": "40bea709",
   "metadata": {},
   "outputs": [
    {
     "name": "stdout",
     "output_type": "stream",
     "text": [
      "Enter an integer number between 1 to 10:5\n",
      "Not matched, It was 2 \n"
     ]
    }
   ],
   "source": [
    "from random import *\n",
    "x = int(input(\"Enter an integer number between 1 to 10:\"))\n",
    "a = randint(1,10)\n",
    "if x == a:\n",
    "    print(\"Matched\")\n",
    "else:\n",
    "    print(f\"Not matched, It was {a} \")"
   ]
  },
  {
   "cell_type": "markdown",
   "id": "be45743b",
   "metadata": {},
   "source": [
    "### 20. Write a program that finds the greatest common divisor (GCD) of two numbers. <br>\n",
    "\n",
    "\n",
    "    Run a while loop until num1 is not equals to num2\n",
    "    If num1>num2 then num1 = num1 – num2\n",
    "    Else num2 = num2 – num1\n",
    "    After the loop ends both num1 & num2 stores GCD\n",
    "\n"
   ]
  },
  {
   "cell_type": "code",
   "execution_count": 62,
   "id": "06e911b4",
   "metadata": {},
   "outputs": [
    {
     "name": "stdout",
     "output_type": "stream",
     "text": [
      "Enter 1st number:36\n",
      "Enter 2nd number:60\n",
      "GCD is  12\n"
     ]
    }
   ],
   "source": [
    "p = int(input(\"Enter 1st number:\"))\n",
    "q = int(input(\"Enter 2nd number:\"))\n",
    "\n",
    "while p != q:\n",
    "    if p > q:\n",
    "        p = p-q\n",
    "    else:\n",
    "        q = q-p\n",
    "print(\"GCD is \", p) "
   ]
  },
  {
   "cell_type": "code",
   "execution_count": null,
   "id": "436e0295",
   "metadata": {},
   "outputs": [],
   "source": []
  }
 ],
 "metadata": {
  "kernelspec": {
   "display_name": "Python 3 (ipykernel)",
   "language": "python",
   "name": "python3"
  },
  "language_info": {
   "codemirror_mode": {
    "name": "ipython",
    "version": 3
   },
   "file_extension": ".py",
   "mimetype": "text/x-python",
   "name": "python",
   "nbconvert_exporter": "python",
   "pygments_lexer": "ipython3",
   "version": "3.10.9"
  }
 },
 "nbformat": 4,
 "nbformat_minor": 5
}
